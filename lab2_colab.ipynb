{
  "nbformat": 4,
  "nbformat_minor": 0,
  "metadata": {
    "colab": {
      "provenance": [],
      "machine_shape": "hm",
      "gpuType": "A100",
      "authorship_tag": "ABX9TyOQLN8+oI7d2dpc63Qs9M1C",
      "include_colab_link": true
    },
    "kernelspec": {
      "name": "python3",
      "display_name": "Python 3"
    },
    "language_info": {
      "name": "python"
    },
    "accelerator": "GPU"
  },
  "cells": [
    {
      "cell_type": "markdown",
      "metadata": {
        "id": "view-in-github",
        "colab_type": "text"
      },
      "source": [
        "<a href=\"https://colab.research.google.com/github/jimmy93029/Selected_topic_for_RL_sophomore_fall/blob/master/lab2_colab.ipynb\" target=\"_parent\"><img src=\"https://colab.research.google.com/assets/colab-badge.svg\" alt=\"Open In Colab\"/></a>"
      ]
    },
    {
      "cell_type": "markdown",
      "source": [
        "# 強化學習專論 lab2 Colab code"
      ],
      "metadata": {
        "id": "3tP4u6nFfXHs"
      }
    },
    {
      "cell_type": "markdown",
      "source": [
        "enviroment"
      ],
      "metadata": {
        "id": "uPu4wM_1gH09"
      }
    },
    {
      "cell_type": "code",
      "source": [
        "%pip install \"gym[atari, accept-rom-license]\""
      ],
      "metadata": {
        "id": "fsnPrYcLiRIA"
      },
      "execution_count": null,
      "outputs": []
    },
    {
      "cell_type": "code",
      "source": [
        "import torch\n",
        "import torch.nn as nn\n",
        "import numpy as np\n",
        "import os\n",
        "import time\n",
        "from collections import deque\n",
        "from torch.utils.tensorboard import SummaryWriter\n",
        "from abc import ABC, abstractmethod"
      ],
      "metadata": {
        "id": "9wMunz7IgO_D"
      },
      "execution_count": 6,
      "outputs": []
    },
    {
      "cell_type": "code",
      "source": [
        "from collections import deque\n",
        "import random"
      ],
      "metadata": {
        "id": "RJ9OzqcugGnq"
      },
      "execution_count": 7,
      "outputs": []
    },
    {
      "cell_type": "code",
      "source": [
        "from torch.utils.tensorboard import SummaryWriter\n",
        "import gym"
      ],
      "metadata": {
        "id": "fS_h6RNUh63J"
      },
      "execution_count": 9,
      "outputs": []
    },
    {
      "cell_type": "code",
      "source": [
        "import ale_py\n",
        "\n",
        "print(gym.envs.registry.keys())"
      ],
      "metadata": {
        "id": "6vBmv4q3kAmx"
      },
      "execution_count": null,
      "outputs": []
    },
    {
      "cell_type": "markdown",
      "source": [
        "## **Tools**"
      ],
      "metadata": {
        "id": "FXfDmDTHfRLz"
      }
    },
    {
      "cell_type": "markdown",
      "source": [
        "### DQN 模型"
      ],
      "metadata": {
        "id": "mgC7RzCmf4gd"
      }
    },
    {
      "cell_type": "code",
      "execution_count": 11,
      "metadata": {
        "id": "P-qBFizwfLv8"
      },
      "outputs": [],
      "source": [
        "class AtariNetDQN(nn.Module):\n",
        "    def __init__(self, num_classes=9, init_weights=True):\n",
        "        super(AtariNetDQN, self).__init__()\n",
        "        self.cnn = nn.Sequential(nn.Conv2d(4, 32, kernel_size=8, stride=4),\n",
        "                                        nn.ReLU(True),\n",
        "                                        nn.Conv2d(32, 64, kernel_size=4, stride=2),\n",
        "                                        nn.ReLU(True),\n",
        "                                        nn.Conv2d(64, 64, kernel_size=3, stride=1),\n",
        "                                        nn.ReLU(True)\n",
        "                                        )\n",
        "        self.classifier = nn.Sequential(nn.Linear(7*7*64, 512),\n",
        "                                        nn.ReLU(True),\n",
        "                                        nn.Linear(512, num_classes)\n",
        "                                        )\n",
        "\n",
        "        if init_weights:\n",
        "            self._initialize_weights()\n",
        "\n",
        "    def forward(self, x):\n",
        "        x = x.float() / 255.\n",
        "        x = self.cnn(x)\n",
        "        x = torch.flatten(x, start_dim=1)\n",
        "        x = self.classifier(x)\n",
        "        return x\n",
        "\n",
        "    def _initialize_weights(self):\n",
        "        for m in self.modules():\n",
        "            if isinstance(m, nn.Conv2d):\n",
        "                nn.init.kaiming_normal_(m.weight, mode='fan_out', nonlinearity='relu')\n",
        "                if m.bias is not None:\n",
        "                    nn.init.constant_(m.bias, 0.0)\n",
        "            elif isinstance(m, nn.BatchNorm2d):\n",
        "                nn.init.constant_(m.weight, 1.0)\n",
        "                nn.init.constant_(m.bias, 0.0)\n",
        "            elif isinstance(m, nn.Linear):\n",
        "                nn.init.kaiming_normal_(m.weight, mode='fan_out', nonlinearity='relu')\n",
        "                nn.init.constant_(m.bias, 0.0)\n"
      ]
    },
    {
      "cell_type": "markdown",
      "source": [
        "### reply buffer"
      ],
      "metadata": {
        "id": "ytEIEzlof8pm"
      }
    },
    {
      "cell_type": "code",
      "source": [
        "class ReplayMemory(object):\n",
        "    def __init__(self, capacity):\n",
        "        self.buffer = deque(maxlen=capacity)\n",
        "\n",
        "    def __len__(self):\n",
        "        return len(self.buffer)\n",
        "\n",
        "    def append(self, *transition):\n",
        "        \"\"\"Saves a transition\"\"\"\n",
        "        self.buffer.append(tuple(map(tuple, transition)))\n",
        "\n",
        "    def sample(self, batch_size, device):\n",
        "        \"\"\"Sample a batch of transitions\"\"\"\n",
        "        transitions = random.sample(self.buffer, batch_size)\n",
        "        return (torch.tensor(np.asarray(x), dtype=torch.float, device=device) for x in zip(*transitions))"
      ],
      "metadata": {
        "id": "mx4exAHTgEzc"
      },
      "execution_count": 12,
      "outputs": []
    },
    {
      "cell_type": "markdown",
      "source": [
        "&emsp;"
      ],
      "metadata": {
        "id": "9NfEqNSXgpnG"
      }
    },
    {
      "cell_type": "markdown",
      "source": [
        "## **Agents**"
      ],
      "metadata": {
        "id": "2U-WxZjjgYcI"
      }
    },
    {
      "cell_type": "markdown",
      "source": [
        "### base agent"
      ],
      "metadata": {
        "id": "V8sRl31hgzZZ"
      }
    },
    {
      "cell_type": "code",
      "source": [
        "class DQNBaseAgent(ABC):\n",
        "\tdef __init__(self, config):\n",
        "\t\tself.gpu = config[\"gpu\"]\n",
        "\t\tself.device = torch.device(\"cuda\" if self.gpu and torch.cuda.is_available() else \"cpu\")\n",
        "\t\tself.total_time_step = 0\n",
        "\t\tself.training_steps = int(config[\"training_steps\"])\n",
        "\t\tself.batch_size = int(config[\"batch_size\"])\n",
        "\t\tself.epsilon = 1.0\n",
        "\t\tself.eps_min = config[\"eps_min\"]\n",
        "\t\tself.eps_decay = config[\"eps_decay\"]\n",
        "\t\tself.eval_epsilon = config[\"eval_epsilon\"]\n",
        "\t\tself.warmup_steps = config[\"warmup_steps\"]\n",
        "\t\tself.eval_interval = config[\"eval_interval\"]\n",
        "\t\tself.eval_episode = config[\"eval_episode\"]\n",
        "\t\tself.gamma = config[\"gamma\"]\n",
        "\t\tself.update_freq = config[\"update_freq\"]\n",
        "\t\tself.update_target_freq = config[\"update_target_freq\"]\n",
        "\n",
        "\t\tself.replay_buffer = ReplayMemory(int(config[\"replay_buffer_capacity\"]))\n",
        "\t\tself.writer = SummaryWriter(config[\"logdir\"])\n",
        "\n",
        "\t@abstractmethod\n",
        "\tdef decide_agent_actions(self, observation, epsilon=0.0, action_space=None):\n",
        "\t\t### TODO ###\n",
        "\t\t# get action from behavior net, with epsilon-greedy selection\n",
        "\n",
        "\t\treturn NotImplementedError\n",
        "\n",
        "\tdef update(self):\n",
        "\t\tif self.total_time_step % self.update_freq == 0:\n",
        "\t\t\tself.update_behavior_network()\n",
        "\t\tif self.total_time_step % self.update_target_freq == 0:\n",
        "\t\t\tself.update_target_network()\n",
        "\n",
        "\t@abstractmethod\n",
        "\tdef update_behavior_network(self):\n",
        "\t\t# sample a minibatch of transitions\n",
        "\t\tstate, action, reward, next_state, done = self.replay_buffer.sample(self.batch_size, self.device)\n",
        "\t\t### TODO ###\n",
        "\t\t# calculate the loss and update the behavior network\n",
        "\n",
        "\tdef update_target_network(self):\n",
        "\t\tself.target_net.load_state_dict(self.behavior_net.state_dict())\n",
        "\n",
        "\tdef epsilon_decay(self):\n",
        "\t\tself.epsilon -= (1 - self.eps_min) / self.eps_decay\n",
        "\t\tself.epsilon = max(self.epsilon, self.eps_min)\n",
        "\n",
        "\tdef train(self):\n",
        "\t\tepisode_idx = 0\n",
        "\t\twhile self.total_time_step <= self.training_steps:\n",
        "\t\t\tobservation, info = self.env.reset()\n",
        "\t\t\tepisode_reward = 0\n",
        "\t\t\tepisode_len = 0\n",
        "\t\t\tepisode_idx += 1\n",
        "\t\t\twhile True:\n",
        "\t\t\t\tif self.total_time_step < self.warmup_steps:\n",
        "\t\t\t\t\taction = self.decide_agent_actions(observation, 1.0, self.env.action_space)\n",
        "\t\t\t\telse:\n",
        "\t\t\t\t\taction = self.decide_agent_actions(observation, self.epsilon, self.env.action_space)\n",
        "\t\t\t\t\tself.epsilon_decay()\n",
        "\n",
        "\t\t\t\tnext_observation, reward, terminate, truncate, info = self.env.step(action)\n",
        "\t\t\t\tself.replay_buffer.append(observation, [action], [reward], next_observation, [int(terminate)])\n",
        "\n",
        "\t\t\t\tif self.total_time_step >= self.warmup_steps:\n",
        "\t\t\t\t\tself.update()\n",
        "\n",
        "\t\t\t\tepisode_reward += reward\n",
        "\t\t\t\tepisode_len += 1\n",
        "\n",
        "\t\t\t\tif terminate or truncate:\n",
        "\t\t\t\t\tself.writer.add_scalar('Train/Episode Reward', episode_reward, self.total_time_step)\n",
        "\t\t\t\t\tself.writer.add_scalar('Train/Episode Len', episode_len, self.total_time_step)\n",
        "\t\t\t\t\tprint(f\"[{self.total_time_step}/{self.training_steps}]  episode: {episode_idx}  \\\n",
        "\t\t\t\t\tepisode reward: {episode_reward}  episode len: {episode_len}  epsilon: {self.epsilon}\")\n",
        "\t\t\t\t\tbreak\n",
        "\n",
        "\t\t\t\tobservation = next_observation\n",
        "\t\t\t\tself.total_time_step += 1\n",
        "\n",
        "\t\t\tif episode_idx % self.eval_interval == 0:\n",
        "\t\t\t\t# save model checkpoint\n",
        "\t\t\t\tavg_score = self.evaluate()\n",
        "\t\t\t\tself.save(os.path.join(self.writer.log_dir, f\"model_{self.total_time_step}_{int(avg_score)}.pth\"))\n",
        "\t\t\t\tself.writer.add_scalar('Evaluate/Episode Reward', avg_score, self.total_time_step)\n",
        "\n",
        "\tdef evaluate(self):\n",
        "\t\tprint(\"==============================================\")\n",
        "\t\tprint(\"Evaluating...\")\n",
        "\t\tall_rewards = []\n",
        "\t\tfor i in range(self.eval_episode):\n",
        "\t\t\tobservation, info = self.test_env.reset()\n",
        "\t\t\ttotal_reward = 0\n",
        "\t\t\twhile True:\n",
        "\t\t\t\tself.test_env.render()\n",
        "\t\t\t\taction = self.decide_agent_actions(observation, self.eval_epsilon, self.test_env.action_space)\n",
        "\t\t\t\tnext_observation, reward, terminate, truncate, info = self.test_env.step(action)\n",
        "\t\t\t\ttotal_reward += reward\n",
        "\t\t\t\tif terminate or truncate:\n",
        "\t\t\t\t\tprint(f\"episode {i+1} reward: {total_reward}\")\n",
        "\t\t\t\t\tall_rewards.append(total_reward)\n",
        "\t\t\t\t\tbreak\n",
        "\n",
        "\t\t\t\tobservation = next_observation\n",
        "\n",
        "\n",
        "\t\tavg = sum(all_rewards) / self.eval_episode\n",
        "\t\tprint(f\"average score: {avg}\")\n",
        "\t\tprint(\"==============================================\")\n",
        "\t\treturn avg\n",
        "\n",
        "\t# save model\n",
        "\tdef save(self, save_path):\n",
        "\t\ttorch.save(self.behavior_net.state_dict(), save_path)\n",
        "\n",
        "\t# load model\n",
        "\tdef load(self, load_path):\n",
        "\t\tself.behavior_net.load_state_dict(torch.load(load_path))\n",
        "\n",
        "\t# load model weights and evaluate\n",
        "\tdef load_and_evaluate(self, load_path):\n",
        "\t\tself.load(load_path)\n",
        "\t\tself.evaluate()"
      ],
      "metadata": {
        "id": "sS6x1Om8gy1N"
      },
      "execution_count": 24,
      "outputs": []
    },
    {
      "cell_type": "markdown",
      "source": [
        "### DQN_Agent ( 作業重點 )"
      ],
      "metadata": {
        "id": "Xh8yg1UBg7u6"
      }
    },
    {
      "cell_type": "code",
      "source": [
        "class AtariDQNAgent(DQNBaseAgent):\n",
        "\tdef __init__(self, config):\n",
        "\t\tsuper(AtariDQNAgent, self).__init__(config)\n",
        "\n",
        "\t\tself.env = gym.make(config[\"env_id\"])\n",
        "\n",
        "\t\tself.test_env = gym.make(config[\"env_id\"])\n",
        "\n",
        "\t\t# initialize behavior network and target network\n",
        "\t\tself.behavior_net = AtariNetDQN(self.env.action_space.n)\n",
        "\t\tself.behavior_net.to(self.device)\n",
        "\t\tself.target_net = AtariNetDQN(self.env.action_space.n)\n",
        "\t\tself.target_net.to(self.device)\n",
        "\t\tself.target_net.load_state_dict(self.behavior_net.state_dict())\n",
        "\n",
        "\t\t# initialize optimizer\n",
        "\t\tself.lr = config[\"learning_rate\"]\n",
        "\t\tself.optim = torch.optim.Adam(self.behavior_net.parameters(), lr=self.lr, eps=1.5e-4)\n",
        "\n",
        "\tdef decide_agent_actions(self, observation, epsilon=0.0, action_space=None) -> int:\n",
        "\t\tif random.random() <= epsilon:\n",
        "\t\t\treturn random.randrange(self.env.action_space.n)\n",
        "\t\telse:\n",
        "\t\t\taction = self.behavior_net(observation).argmax().cpu().item()\n",
        "\t\t\treturn action\n",
        "\n",
        "\tdef choose_batch_actions(self, net, states) -> torch.Tensor:\n",
        "\t\tif net == \"behavior\":\n",
        "\t\t\t_, actions = self.behavior_net(states).max(dim=1, keepdim=True)\n",
        "\t\t\treturn actions\n",
        "\t\telif net == \"target\":\n",
        "\t\t\t_, actions = self.target_net(states).max(dim=1, keepdim=True)\n",
        "\t\t\treturn actions\n",
        "\n",
        "\tdef Q_value(self, net, states, actions):\n",
        "\t\t# get Q values from actions and target network\n",
        "\t\tif net == \"target\":\n",
        "\t\t\tnext_q_values = self.target_net.forward(states).gather(dim=1, index=actions)\n",
        "\t\t\treturn next_q_values\n",
        "\t\telif net == \"behavior\":\n",
        "\t\t\tq_values = self.behavior_net.forward(states).gather(dim=1, index=actions)\n",
        "\t\t\treturn q_values\n",
        "\n",
        "\t# implement DDQN\n",
        "\tdef update_behavior_network(self):\n",
        "\t\t# sample a minibatch of transitions\n",
        "\t\tstate, action, reward, next_state, done = self.replay_buffer.sample(self.batch_size, self.device)\n",
        "\n",
        "\t\tnext_actions = self.choose_batch_actions(\"behavior\", next_state)\n",
        "\t\tQ_target = reward + self.gamma * self.Q_value(\"target\", next_state, next_actions)\n",
        "\t\tQ_output = self.Q_value(\"behavior\", state, action)\n",
        "\n",
        "\t\tcriterion = nn.SmoothL1Loss()\n",
        "\t\tloss = criterion(Q_output, Q_target)\n",
        "\n",
        "\t\tself.writer.add_scalar('DQN/Loss', loss.item(), self.total_time_step)\n",
        "\n",
        "\t\tself.optim.zero_grad()\n",
        "\t\tloss.backward()\n",
        "\t\tself.optim.step()"
      ],
      "metadata": {
        "id": "_REgd9JQhI9z"
      },
      "execution_count": 25,
      "outputs": []
    },
    {
      "cell_type": "markdown",
      "source": [
        "&emsp;"
      ],
      "metadata": {
        "id": "j66ReT1rhdNb"
      }
    },
    {
      "cell_type": "markdown",
      "source": [
        "## main"
      ],
      "metadata": {
        "id": "WvIN4EPXhe2B"
      }
    },
    {
      "cell_type": "code",
      "source": [
        "if __name__ == '__main__':\n",
        "    # my hyperparameters, you can change it as you like\n",
        "    config = {\n",
        "\t\t\"gpu\": True,\n",
        "\t\t\"training_steps\": 1e8,\n",
        "\t\t\"gamma\": 0.99,\n",
        "\t\t\"batch_size\": 32,\n",
        "\t\t\"eps_min\": 0.1,\n",
        "\t\t\"warmup_steps\": 20000,\n",
        "\t\t\"eps_decay\": 1000000,\n",
        "\t\t\"eval_epsilon\": 0.01,\n",
        "\t\t\"replay_buffer_capacity\": 100000,\n",
        "\t\t\"logdir\": 'log/DQN/',\n",
        "\t\t\"update_freq\": 4,\n",
        "\t\t\"update_target_freq\": 10000,\n",
        "\t\t\"learning_rate\": 0.0000625,\n",
        "        \"eval_interval\": 100,\n",
        "        \"eval_episode\": 5,\n",
        "\t\t\"env_id\": 'ALE/MsPacman-v5',\n",
        "\t}\n",
        "    agent = AtariDQNAgent(config)\n",
        "    agent.train()"
      ],
      "metadata": {
        "colab": {
          "base_uri": "https://localhost:8080/",
          "height": 346
        },
        "id": "zY8y_W7ShkYX",
        "outputId": "e63daec8-95b8-4f24-a0d6-179658e18ba5"
      },
      "execution_count": 26,
      "outputs": [
        {
          "output_type": "error",
          "ename": "ValueError",
          "evalue": "ignored",
          "traceback": [
            "\u001b[0;31m---------------------------------------------------------------------------\u001b[0m",
            "\u001b[0;31mValueError\u001b[0m                                Traceback (most recent call last)",
            "\u001b[0;32m<ipython-input-26-730bae5dcf8b>\u001b[0m in \u001b[0;36m<cell line: 1>\u001b[0;34m()\u001b[0m\n\u001b[1;32m     20\u001b[0m \t}\n\u001b[1;32m     21\u001b[0m     \u001b[0magent\u001b[0m \u001b[0;34m=\u001b[0m \u001b[0mAtariDQNAgent\u001b[0m\u001b[0;34m(\u001b[0m\u001b[0mconfig\u001b[0m\u001b[0;34m)\u001b[0m\u001b[0;34m\u001b[0m\u001b[0;34m\u001b[0m\u001b[0m\n\u001b[0;32m---> 22\u001b[0;31m     \u001b[0magent\u001b[0m\u001b[0;34m.\u001b[0m\u001b[0mtrain\u001b[0m\u001b[0;34m(\u001b[0m\u001b[0;34m)\u001b[0m\u001b[0;34m\u001b[0m\u001b[0;34m\u001b[0m\u001b[0m\n\u001b[0m",
            "\u001b[0;32m<ipython-input-24-498c513b675d>\u001b[0m in \u001b[0;36mtrain\u001b[0;34m(self)\u001b[0m\n\u001b[1;32m     50\u001b[0m                 \u001b[0mepisode_idx\u001b[0m \u001b[0;34m=\u001b[0m \u001b[0;36m0\u001b[0m\u001b[0;34m\u001b[0m\u001b[0;34m\u001b[0m\u001b[0m\n\u001b[1;32m     51\u001b[0m                 \u001b[0;32mwhile\u001b[0m \u001b[0mself\u001b[0m\u001b[0;34m.\u001b[0m\u001b[0mtotal_time_step\u001b[0m \u001b[0;34m<=\u001b[0m \u001b[0mself\u001b[0m\u001b[0;34m.\u001b[0m\u001b[0mtraining_steps\u001b[0m\u001b[0;34m:\u001b[0m\u001b[0;34m\u001b[0m\u001b[0;34m\u001b[0m\u001b[0m\n\u001b[0;32m---> 52\u001b[0;31m                         \u001b[0;34m(\u001b[0m\u001b[0mobservation\u001b[0m\u001b[0;34m,\u001b[0m \u001b[0minfo\u001b[0m\u001b[0;34m)\u001b[0m \u001b[0;34m=\u001b[0m \u001b[0mself\u001b[0m\u001b[0;34m.\u001b[0m\u001b[0menv\u001b[0m\u001b[0;34m.\u001b[0m\u001b[0mreset\u001b[0m\u001b[0;34m(\u001b[0m\u001b[0;34m)\u001b[0m\u001b[0;34m\u001b[0m\u001b[0;34m\u001b[0m\u001b[0m\n\u001b[0m\u001b[1;32m     53\u001b[0m                         \u001b[0mepisode_reward\u001b[0m \u001b[0;34m=\u001b[0m \u001b[0;36m0\u001b[0m\u001b[0;34m\u001b[0m\u001b[0;34m\u001b[0m\u001b[0m\n\u001b[1;32m     54\u001b[0m                         \u001b[0mepisode_len\u001b[0m \u001b[0;34m=\u001b[0m \u001b[0;36m0\u001b[0m\u001b[0;34m\u001b[0m\u001b[0;34m\u001b[0m\u001b[0m\n",
            "\u001b[0;31mValueError\u001b[0m: too many values to unpack (expected 2)"
          ]
        }
      ]
    },
    {
      "cell_type": "code",
      "source": [],
      "metadata": {
        "id": "jqUptRrpmTOc"
      },
      "execution_count": null,
      "outputs": []
    }
  ]
}